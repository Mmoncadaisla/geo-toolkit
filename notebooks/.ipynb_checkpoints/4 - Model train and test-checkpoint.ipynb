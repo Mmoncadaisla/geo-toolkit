{
 "cells": [
  {
   "cell_type": "markdown",
   "metadata": {},
   "source": [
    "# NYC Taxi daily average pickups modelling"
   ]
  },
  {
   "cell_type": "markdown",
   "metadata": {},
   "source": [
    "<font size=3>\n",
    "\n",
    "What's in this Notebook?\n",
    "    \n",
    "<p>\n",
    "\n",
    "</p>\n",
    "\n",
    "- **Subset the resulting dataset and drop null values**\n",
    "\n",
    "<p>\n",
    "\n",
    "</p>\n",
    "\n",
    "- **Split the dataset in train and test**\n",
    "\n",
    "<p>\n",
    "\n",
    "</p>\n",
    "    \n",
    "- **Train and evaluate model's performance**"
   ]
  },
  {
   "cell_type": "markdown",
   "metadata": {},
   "source": [
    "# Subset the dataset and drop null values"
   ]
  },
  {
   "cell_type": "markdown",
   "metadata": {},
   "source": [
    "<font size=3>\n",
    "    \n",
    "We will use the income_per_capita and nonfamily_households variables to create a model for predicting daily average of Taxi pickups"
   ]
  },
  {
   "cell_type": "code",
   "execution_count": 2,
   "metadata": {},
   "outputs": [],
   "source": [
    "import numpy as np\n",
    "import pandas as pd\n",
    "import geopandas as gpd\n",
    "import seaborn as sns"
   ]
  },
  {
   "cell_type": "code",
   "execution_count": 3,
   "metadata": {},
   "outputs": [],
   "source": [
    "# Read the dataset using GeoPandas \n",
    "\n",
    "taxi_gdf_filtered = gpd.read_file('taxi_gdf_filtered.gpkg')"
   ]
  },
  {
   "cell_type": "code",
   "execution_count": 4,
   "metadata": {},
   "outputs": [
    {
     "data": {
      "text/html": [
       "<div>\n",
       "<style scoped>\n",
       "    .dataframe tbody tr th:only-of-type {\n",
       "        vertical-align: middle;\n",
       "    }\n",
       "\n",
       "    .dataframe tbody tr th {\n",
       "        vertical-align: top;\n",
       "    }\n",
       "\n",
       "    .dataframe thead th {\n",
       "        text-align: right;\n",
       "    }\n",
       "</style>\n",
       "<table border=\"1\" class=\"dataframe\">\n",
       "  <thead>\n",
       "    <tr style=\"text-align: right;\">\n",
       "      <th></th>\n",
       "      <th>number_pickups</th>\n",
       "      <th>cartodb_id</th>\n",
       "      <th>geoid</th>\n",
       "      <th>do_date</th>\n",
       "      <th>total_pop</th>\n",
       "      <th>households</th>\n",
       "      <th>male_pop</th>\n",
       "      <th>female_pop</th>\n",
       "      <th>median_age</th>\n",
       "      <th>male_under_5</th>\n",
       "      <th>...</th>\n",
       "      <th>not_in_labor_force</th>\n",
       "      <th>armed_forces</th>\n",
       "      <th>civilian_labor_force</th>\n",
       "      <th>do_label</th>\n",
       "      <th>boro_name</th>\n",
       "      <th>avg_pickups</th>\n",
       "      <th>zscore</th>\n",
       "      <th>white_pop_rel</th>\n",
       "      <th>employed_pop_rel</th>\n",
       "      <th>geometry</th>\n",
       "    </tr>\n",
       "  </thead>\n",
       "  <tbody>\n",
       "    <tr>\n",
       "      <th>0</th>\n",
       "      <td>51</td>\n",
       "      <td>142301</td>\n",
       "      <td>340179801001</td>\n",
       "      <td>2011-01-01</td>\n",
       "      <td>0.0</td>\n",
       "      <td>0.0</td>\n",
       "      <td>0.0</td>\n",
       "      <td>0.0</td>\n",
       "      <td>NaN</td>\n",
       "      <td>0.0</td>\n",
       "      <td>...</td>\n",
       "      <td>0.0</td>\n",
       "      <td>0.0</td>\n",
       "      <td>0.0</td>\n",
       "      <td>Block Group 1</td>\n",
       "      <td>Manhattan</td>\n",
       "      <td>1</td>\n",
       "      <td>0.193254</td>\n",
       "      <td>NaN</td>\n",
       "      <td>NaN</td>\n",
       "      <td>MULTIPOLYGON (((-74.04366 40.69804, -74.04170 ...</td>\n",
       "    </tr>\n",
       "    <tr>\n",
       "      <th>1</th>\n",
       "      <td>5</td>\n",
       "      <td>127295</td>\n",
       "      <td>360050016002</td>\n",
       "      <td>2011-01-01</td>\n",
       "      <td>884.0</td>\n",
       "      <td>322.0</td>\n",
       "      <td>379.0</td>\n",
       "      <td>505.0</td>\n",
       "      <td>33.8</td>\n",
       "      <td>44.0</td>\n",
       "      <td>...</td>\n",
       "      <td>334.0</td>\n",
       "      <td>0.0</td>\n",
       "      <td>284.0</td>\n",
       "      <td>Block Group 2</td>\n",
       "      <td>Bronx</td>\n",
       "      <td>1</td>\n",
       "      <td>0.193254</td>\n",
       "      <td>0.010181</td>\n",
       "      <td>0.435275</td>\n",
       "      <td>MULTIPOLYGON (((-73.85827 40.81763, -73.86198 ...</td>\n",
       "    </tr>\n",
       "    <tr>\n",
       "      <th>2</th>\n",
       "      <td>23</td>\n",
       "      <td>201291</td>\n",
       "      <td>360050016004</td>\n",
       "      <td>2011-01-01</td>\n",
       "      <td>1540.0</td>\n",
       "      <td>389.0</td>\n",
       "      <td>749.0</td>\n",
       "      <td>791.0</td>\n",
       "      <td>41.1</td>\n",
       "      <td>75.0</td>\n",
       "      <td>...</td>\n",
       "      <td>767.0</td>\n",
       "      <td>0.0</td>\n",
       "      <td>459.0</td>\n",
       "      <td>Block Group 4</td>\n",
       "      <td>Bronx</td>\n",
       "      <td>1</td>\n",
       "      <td>0.193254</td>\n",
       "      <td>0.029870</td>\n",
       "      <td>0.359706</td>\n",
       "      <td>MULTIPOLYGON (((-73.86198 40.81714, -73.85827 ...</td>\n",
       "    </tr>\n",
       "    <tr>\n",
       "      <th>3</th>\n",
       "      <td>1</td>\n",
       "      <td>102134</td>\n",
       "      <td>360050020001</td>\n",
       "      <td>2011-01-01</td>\n",
       "      <td>1499.0</td>\n",
       "      <td>413.0</td>\n",
       "      <td>859.0</td>\n",
       "      <td>640.0</td>\n",
       "      <td>49.8</td>\n",
       "      <td>0.0</td>\n",
       "      <td>...</td>\n",
       "      <td>490.0</td>\n",
       "      <td>0.0</td>\n",
       "      <td>827.0</td>\n",
       "      <td>Block Group 1</td>\n",
       "      <td>Bronx</td>\n",
       "      <td>1</td>\n",
       "      <td>0.193254</td>\n",
       "      <td>0.009340</td>\n",
       "      <td>0.586940</td>\n",
       "      <td>MULTIPOLYGON (((-73.86571 40.81662, -73.86475 ...</td>\n",
       "    </tr>\n",
       "    <tr>\n",
       "      <th>4</th>\n",
       "      <td>6</td>\n",
       "      <td>103494</td>\n",
       "      <td>360050020003</td>\n",
       "      <td>2011-01-01</td>\n",
       "      <td>2888.0</td>\n",
       "      <td>851.0</td>\n",
       "      <td>1070.0</td>\n",
       "      <td>1818.0</td>\n",
       "      <td>29.7</td>\n",
       "      <td>76.0</td>\n",
       "      <td>...</td>\n",
       "      <td>1375.0</td>\n",
       "      <td>0.0</td>\n",
       "      <td>771.0</td>\n",
       "      <td>Block Group 3</td>\n",
       "      <td>Bronx</td>\n",
       "      <td>1</td>\n",
       "      <td>0.193254</td>\n",
       "      <td>0.020083</td>\n",
       "      <td>0.258621</td>\n",
       "      <td>MULTIPOLYGON (((-73.86997 40.81827, -73.86955 ...</td>\n",
       "    </tr>\n",
       "  </tbody>\n",
       "</table>\n",
       "<p>5 rows × 162 columns</p>\n",
       "</div>"
      ],
      "text/plain": [
       "   number_pickups  cartodb_id         geoid     do_date  total_pop  \\\n",
       "0              51      142301  340179801001  2011-01-01        0.0   \n",
       "1               5      127295  360050016002  2011-01-01      884.0   \n",
       "2              23      201291  360050016004  2011-01-01     1540.0   \n",
       "3               1      102134  360050020001  2011-01-01     1499.0   \n",
       "4               6      103494  360050020003  2011-01-01     2888.0   \n",
       "\n",
       "   households  male_pop  female_pop  median_age  male_under_5  ...  \\\n",
       "0         0.0       0.0         0.0         NaN           0.0  ...   \n",
       "1       322.0     379.0       505.0        33.8          44.0  ...   \n",
       "2       389.0     749.0       791.0        41.1          75.0  ...   \n",
       "3       413.0     859.0       640.0        49.8           0.0  ...   \n",
       "4       851.0    1070.0      1818.0        29.7          76.0  ...   \n",
       "\n",
       "   not_in_labor_force  armed_forces  civilian_labor_force       do_label  \\\n",
       "0                 0.0           0.0                   0.0  Block Group 1   \n",
       "1               334.0           0.0                 284.0  Block Group 2   \n",
       "2               767.0           0.0                 459.0  Block Group 4   \n",
       "3               490.0           0.0                 827.0  Block Group 1   \n",
       "4              1375.0           0.0                 771.0  Block Group 3   \n",
       "\n",
       "   boro_name  avg_pickups    zscore  white_pop_rel  employed_pop_rel  \\\n",
       "0  Manhattan            1  0.193254            NaN               NaN   \n",
       "1      Bronx            1  0.193254       0.010181          0.435275   \n",
       "2      Bronx            1  0.193254       0.029870          0.359706   \n",
       "3      Bronx            1  0.193254       0.009340          0.586940   \n",
       "4      Bronx            1  0.193254       0.020083          0.258621   \n",
       "\n",
       "                                            geometry  \n",
       "0  MULTIPOLYGON (((-74.04366 40.69804, -74.04170 ...  \n",
       "1  MULTIPOLYGON (((-73.85827 40.81763, -73.86198 ...  \n",
       "2  MULTIPOLYGON (((-73.86198 40.81714, -73.85827 ...  \n",
       "3  MULTIPOLYGON (((-73.86571 40.81662, -73.86475 ...  \n",
       "4  MULTIPOLYGON (((-73.86997 40.81827, -73.86955 ...  \n",
       "\n",
       "[5 rows x 162 columns]"
      ]
     },
     "execution_count": 4,
     "metadata": {},
     "output_type": "execute_result"
    }
   ],
   "source": [
    "taxi_gdf_filtered.head()"
   ]
  },
  {
   "cell_type": "code",
   "execution_count": 5,
   "metadata": {},
   "outputs": [],
   "source": [
    "# Fetch subset of variables to be used within the model plus the geometry\n",
    "\n",
    "selected_features = ['income_per_capita', 'nonfamily_households', 'avg_pickups']\n",
    "\n",
    "taxi_selection = taxi_gdf_filtered[selected_features].copy()"
   ]
  },
  {
   "cell_type": "code",
   "execution_count": 6,
   "metadata": {},
   "outputs": [
    {
     "data": {
      "text/html": [
       "<div>\n",
       "<style scoped>\n",
       "    .dataframe tbody tr th:only-of-type {\n",
       "        vertical-align: middle;\n",
       "    }\n",
       "\n",
       "    .dataframe tbody tr th {\n",
       "        vertical-align: top;\n",
       "    }\n",
       "\n",
       "    .dataframe thead th {\n",
       "        text-align: right;\n",
       "    }\n",
       "</style>\n",
       "<table border=\"1\" class=\"dataframe\">\n",
       "  <thead>\n",
       "    <tr style=\"text-align: right;\">\n",
       "      <th></th>\n",
       "      <th>income_per_capita</th>\n",
       "      <th>nonfamily_households</th>\n",
       "      <th>avg_pickups</th>\n",
       "    </tr>\n",
       "  </thead>\n",
       "  <tbody>\n",
       "    <tr>\n",
       "      <th>0</th>\n",
       "      <td>NaN</td>\n",
       "      <td>0.0</td>\n",
       "      <td>1</td>\n",
       "    </tr>\n",
       "    <tr>\n",
       "      <th>1</th>\n",
       "      <td>26937.0</td>\n",
       "      <td>124.0</td>\n",
       "      <td>1</td>\n",
       "    </tr>\n",
       "    <tr>\n",
       "      <th>2</th>\n",
       "      <td>13832.0</td>\n",
       "      <td>57.0</td>\n",
       "      <td>1</td>\n",
       "    </tr>\n",
       "    <tr>\n",
       "      <th>3</th>\n",
       "      <td>16977.0</td>\n",
       "      <td>93.0</td>\n",
       "      <td>1</td>\n",
       "    </tr>\n",
       "    <tr>\n",
       "      <th>4</th>\n",
       "      <td>5709.0</td>\n",
       "      <td>171.0</td>\n",
       "      <td>1</td>\n",
       "    </tr>\n",
       "  </tbody>\n",
       "</table>\n",
       "</div>"
      ],
      "text/plain": [
       "   income_per_capita  nonfamily_households  avg_pickups\n",
       "0                NaN                   0.0            1\n",
       "1            26937.0                 124.0            1\n",
       "2            13832.0                  57.0            1\n",
       "3            16977.0                  93.0            1\n",
       "4             5709.0                 171.0            1"
      ]
     },
     "execution_count": 6,
     "metadata": {},
     "output_type": "execute_result"
    }
   ],
   "source": [
    "taxi_selection.head()"
   ]
  },
  {
   "cell_type": "code",
   "execution_count": 7,
   "metadata": {},
   "outputs": [],
   "source": [
    "# Make a copy of the dataframe and drop null values\n",
    "\n",
    "taxi_selection_notna = taxi_selection.copy().dropna()"
   ]
  },
  {
   "cell_type": "markdown",
   "metadata": {},
   "source": [
    "# Split the dataset into train and test sets"
   ]
  },
  {
   "cell_type": "markdown",
   "metadata": {},
   "source": [
    "<font size=3> \n",
    "    \n",
    "We will split the dataset into the variables used for predicting (X) and the target variable we want to predict (y)"
   ]
  },
  {
   "cell_type": "code",
   "execution_count": 8,
   "metadata": {},
   "outputs": [],
   "source": [
    "# Create X (features to be used for prediction) and y (target value) variables\n",
    "\n",
    "X = taxi_selection_notna.drop('avg_pickups', axis=1).values\n",
    "\n",
    "y = taxi_selection_notna['avg_pickups'].values"
   ]
  },
  {
   "cell_type": "code",
   "execution_count": 9,
   "metadata": {},
   "outputs": [],
   "source": [
    "# Create training and test datasets\n",
    "\n",
    "from sklearn.model_selection import train_test_split\n",
    "\n",
    "X_train, X_test, y_train, y_test = train_test_split(X, y, test_size=.33, random_state=101)"
   ]
  },
  {
   "cell_type": "markdown",
   "metadata": {},
   "source": [
    "# Scale the variables, train the model and evaluate it's performance"
   ]
  },
  {
   "cell_type": "markdown",
   "metadata": {},
   "source": [
    "<font size=3>\n",
    "    \n",
    "We'll scale the variables, just in case, to prevent one of these from having a higher weight because of its numerical value"
   ]
  },
  {
   "cell_type": "code",
   "execution_count": 10,
   "metadata": {},
   "outputs": [],
   "source": [
    "from sklearn.preprocessing import StandardScaler\n",
    "\n",
    "sc = StandardScaler()\n",
    "\n",
    "X_train_std = sc.fit_transform(X_train)\n",
    "\n",
    "X_test_std = sc.transform(X_test)"
   ]
  },
  {
   "cell_type": "markdown",
   "metadata": {},
   "source": [
    "<font size=3>\n",
    "\n",
    "We'll be using a **Random Forest** model, main reason being relative familiarity with the model (above other models at least!) but also because the behavior shown in the previous notebook, filtering through widgets could be similar to human decission as it'd happen with decission trees\n",
    "    \n",
    "<p></p><p></p><p></p>\n",
    "    \n",
    "<font size=3>\n",
    "    \n",
    "RF models combine the prediction of mutiple **Decision Trees** (equal to the number of estimators) to compute the result, each DT using a random sample of the data."
   ]
  },
  {
   "cell_type": "code",
   "execution_count": 13,
   "metadata": {},
   "outputs": [],
   "source": [
    "from sklearn.preprocessing import StandardScaler\n",
    "from sklearn.ensemble import RandomForestRegressor\n",
    "\n",
    "rf = RandomForestRegressor(n_estimators=5000)\n",
    "\n",
    "rf.fit(X_train_std, y_train)\n",
    "\n",
    "y_pred = rf.predict(X_test_std)"
   ]
  },
  {
   "cell_type": "markdown",
   "metadata": {},
   "source": [
    "<font size=3>\n",
    "\n",
    "We'll use the **R2 score** to evaluate model's performance. R2 score ranges from 0 to 1, the higher the value the better performance the model achieved.\n",
    "    \n",
    "    \n",
    "<p></p><p></p><p></p>\n",
    "    \n",
    "<font size=3>\n",
    "    \n",
    "In this case, the model's R2 score is 0.5, which indicates that model's accuracy is low and predictions, although are not completely misleading, can't be taken into account with confidence.\n",
    "    \n",
    "    \n",
    "<p></p><p></p><p></p>\n",
    "    \n",
    "<font size=3>\n",
    "    \n",
    "Model's accuracy could be potentially improved by,\n",
    "    \n",
    "<p></p><p></p><p></p>\n",
    "    \n",
    "<font size=3>\n",
    "    \n",
    " \n",
    "1. **Investigating the data further** to understand the relation between sociodemographic factors and NYC Taxi pickups\n",
    "    \n",
    "<p></p><p></p><p></p>\n",
    "    \n",
    "<font size=3>\n",
    "    \n",
    "    \n",
    "2. Further **feature engineering** (create secondary variables based on the available data) to detect more correlated variables\n",
    "    \n",
    "<p></p><p></p><p></p>\n",
    "    \n",
    "<font size=3>\n",
    "    \n",
    "    \n",
    "3. Use **additional data** that could exlplain main activity in Manhattan area such as POIs including offices, restaurants, hotels, places of tourist interest, etc."
   ]
  },
  {
   "cell_type": "code",
   "execution_count": 14,
   "metadata": {},
   "outputs": [
    {
     "name": "stdout",
     "output_type": "stream",
     "text": [
      "0.5021049084822959\n"
     ]
    }
   ],
   "source": [
    "from sklearn.metrics import r2_score\n",
    "\n",
    "print(r2_score(y_test, y_pred))"
   ]
  },
  {
   "cell_type": "markdown",
   "metadata": {},
   "source": [
    "<font size=4><b>\n",
    "\n",
    "\n",
    "Read the conclusions and possible improvements, [`5 - Discussion`](discussion.md)\n",
    "\n",
    "</font>"
   ]
  }
 ],
 "metadata": {
  "kernelspec": {
   "display_name": "Python 3",
   "language": "python",
   "name": "python3"
  },
  "language_info": {
   "codemirror_mode": {
    "name": "ipython",
    "version": 3
   },
   "file_extension": ".py",
   "mimetype": "text/x-python",
   "name": "python",
   "nbconvert_exporter": "python",
   "pygments_lexer": "ipython3",
   "version": "3.8.5"
  },
  "toc": {
   "base_numbering": 1,
   "nav_menu": {},
   "number_sections": true,
   "sideBar": true,
   "skip_h1_title": false,
   "title_cell": "Table of Contents",
   "title_sidebar": "Contents",
   "toc_cell": false,
   "toc_position": {},
   "toc_section_display": true,
   "toc_window_display": false
  },
  "varInspector": {
   "cols": {
    "lenName": 16,
    "lenType": 16,
    "lenVar": 40
   },
   "kernels_config": {
    "python": {
     "delete_cmd_postfix": "",
     "delete_cmd_prefix": "del ",
     "library": "var_list.py",
     "varRefreshCmd": "print(var_dic_list())"
    },
    "r": {
     "delete_cmd_postfix": ") ",
     "delete_cmd_prefix": "rm(",
     "library": "var_list.r",
     "varRefreshCmd": "cat(var_dic_list()) "
    }
   },
   "types_to_exclude": [
    "module",
    "function",
    "builtin_function_or_method",
    "instance",
    "_Feature"
   ],
   "window_display": false
  }
 },
 "nbformat": 4,
 "nbformat_minor": 2
}
